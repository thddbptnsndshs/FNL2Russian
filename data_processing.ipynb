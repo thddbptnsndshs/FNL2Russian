{
 "cells": [
  {
   "cell_type": "markdown",
   "id": "b7d5ac51-82a9-43ae-b651-3bb9d8ae94a9",
   "metadata": {},
   "source": [
    "# open and process textgrid annotation\n",
    "\n",
    "- docs [here](https://pypi.org/project/praat-textgrids/), doesn't work\n",
    "- docs [here](https://github.com/kylebgorman/textgrid), does work. Kyle Gorman is mother"
   ]
  },
  {
   "cell_type": "code",
   "execution_count": 1,
   "id": "607fa8fe-cbb8-4f9d-a534-db0ddcff2fc7",
   "metadata": {},
   "outputs": [],
   "source": [
    "# import sys\n",
    "\n",
    "# sys.path.append('~/Library/Python/3.8/lib/python/site-packages')"
   ]
  },
  {
   "cell_type": "code",
   "execution_count": 2,
   "id": "cd3dfd4e-e60b-4c0f-ad82-a6b63537e37e",
   "metadata": {},
   "outputs": [],
   "source": [
    "import textgrid\n",
    "\n",
    "# Read a TextGrid object from a file.\n",
    "tg = textgrid.TextGrid.fromFile('ATL.TextGrid')"
   ]
  },
  {
   "cell_type": "code",
   "execution_count": 3,
   "id": "fce13bd7-9d49-4762-abb3-7c76f6e25f74",
   "metadata": {},
   "outputs": [
    {
     "name": "stdout",
     "output_type": "stream",
     "text": [
      "add\n",
      "addInterval\n",
      "bounds\n",
      "fromFile\n",
      "indexContaining\n",
      "intervalContaining\n",
      "intervals\n",
      "maxTime\n",
      "minTime\n",
      "name\n",
      "read\n",
      "remove\n",
      "removeInterval\n",
      "strict\n",
      "write\n"
     ]
    }
   ],
   "source": [
    "# what textgrid object can do\n",
    "print(*filter(lambda x: not x.startswith('_'), dir(tg[0])), sep='\\n')"
   ]
  },
  {
   "cell_type": "code",
   "execution_count": 4,
   "id": "18bc9072-2902-4bf5-8574-e350df1f8e6e",
   "metadata": {},
   "outputs": [
    {
     "name": "stdout",
     "output_type": "stream",
     "text": [
      "bounds\n",
      "duration\n",
      "mark\n",
      "maxTime\n",
      "minTime\n",
      "overlaps\n",
      "strict\n"
     ]
    }
   ],
   "source": [
    "print(*filter(lambda x: not x.startswith('_'), dir(tg[0][0])), sep='\\n')"
   ]
  },
  {
   "cell_type": "code",
   "execution_count": 5,
   "id": "4c6c6931-3001-417f-8cfc-72a8c6ba8796",
   "metadata": {},
   "outputs": [
    {
     "name": "stdout",
     "output_type": "stream",
     "text": [
      "word\t1213\n",
      "segment\t1921\n",
      "voice\t1922\n",
      "burst\t612\n"
     ]
    }
   ],
   "source": [
    "for tier in tg:\n",
    "    print(tier.name, len(tier), sep='\\t', end='\\n')"
   ]
  },
  {
   "cell_type": "code",
   "execution_count": 6,
   "id": "301267ce-a455-4090-bce0-b926fdaec200",
   "metadata": {},
   "outputs": [
    {
     "data": {
      "text/plain": [
       "32.4882"
      ]
     },
     "execution_count": 6,
     "metadata": {},
     "output_type": "execute_result"
    }
   ],
   "source": [
    "tg[0][3].minTime"
   ]
  },
  {
   "cell_type": "markdown",
   "id": "ec8b0743-275e-4afc-a5ca-87e4fd54c85b",
   "metadata": {},
   "source": [
    "## annotation manual\n",
    "\n",
    "\n",
    "есть 4 слоя текст-грида:\n",
    "\n",
    " 1. word — отмечаешь слово\n",
    " 2. segment — сюда идут согласные, у которых в русском есть пара по глухости-звонкости.\n",
    "- отмечать не как слышно, а как оно в русском слове — то есть, если консультант_ка говорит “вота” вместо “вода”, вносишь все равно “д”\n",
    "- границами сегмента считается конец гласной/начало слова с одной стороны и начало следующей гласной/конец слова с другой\n",
    "- граница с гласной — по первому циклу регулярного колебания, но хирургическая точность тут не очень важна, главное следующий слой\n",
    " 3. voice — здесь отмечается, есть ли фонация (+) или ее нет (-). чаще всего тут можно будет просто скопировать интервал с предыдущего слоя и отметить +/-\n",
    " 4. burst (точечный слой) — для взрывных отметить начало взрыва. этот момент должен всегда оказываться внутри интервала на слое segment, так как мы отмечаем от гласной/границы до гласной/границы\n",
    "\n",
    "можно пропускать:\n",
    "\n",
    "- согласные в кластерах — другой зверь, которого пока не трогаем (получается, отмечаем только контексты #_V, V_V, V_#)\n",
    "- там, где консультант_ку перебивают, или речь очень тихая неразборчивая, шумная и тд, можно пропустить\n",
    "\n",
    "## TODO\n",
    "\n",
    "- составить таблицу по сегментам, каждый по отдельности\n",
    "- колонки: segment (str), voiced (bool), context (List[initial, final, medial]), burst (bool), VOT, duration (float)"
   ]
  },
  {
   "cell_type": "code",
   "execution_count": 7,
   "id": "6077acda-bd2a-4b7e-9322-1ffccf6db6b9",
   "metadata": {},
   "outputs": [],
   "source": [
    "import numpy as np"
   ]
  },
  {
   "cell_type": "code",
   "execution_count": 122,
   "id": "7ada3f2f-86cd-49a5-b854-86808fdf7945",
   "metadata": {},
   "outputs": [],
   "source": [
    "initial_diffs = np.array([word.minTime - seg.minTime for seg, word in zip(tg[0], tg[1])])"
   ]
  },
  {
   "cell_type": "code",
   "execution_count": 123,
   "id": "ab64d7b9-5b6b-4dc8-8932-2d86fe674759",
   "metadata": {},
   "outputs": [],
   "source": [
    "words = [word for word in tg[0] if word.mark != '']\n",
    "segments = [seg for seg in tg[1] if seg.mark != '']\n",
    "voiced = [voi for voi in tg[2] if voi.mark != '']\n",
    "bursts = tg[-1]"
   ]
  },
  {
   "cell_type": "code",
   "execution_count": 124,
   "id": "96c5ca1e-87d9-42c4-ac39-0745a9a41e77",
   "metadata": {},
   "outputs": [
    {
     "data": {
      "text/plain": [
       "960"
      ]
     },
     "execution_count": 124,
     "metadata": {},
     "output_type": "execute_result"
    }
   ],
   "source": [
    "len(voiced)"
   ]
  },
  {
   "cell_type": "code",
   "execution_count": 125,
   "id": "4de4afd9-0af3-4e68-84d8-f384a5a3fb33",
   "metadata": {},
   "outputs": [
    {
     "data": {
      "text/plain": [
       "960"
      ]
     },
     "execution_count": 125,
     "metadata": {},
     "output_type": "execute_result"
    }
   ],
   "source": [
    "len(segments)"
   ]
  },
  {
   "cell_type": "code",
   "execution_count": 126,
   "id": "47672d0a-4586-43c1-a5e7-d54c9c2e9139",
   "metadata": {},
   "outputs": [
    {
     "data": {
      "text/plain": [
       "True"
      ]
     },
     "execution_count": 126,
     "metadata": {},
     "output_type": "execute_result"
    }
   ],
   "source": [
    "'екст'.index('т') and 'екст'.count('т') == 1"
   ]
  },
  {
   "cell_type": "code",
   "execution_count": 127,
   "id": "ea1ca137-3bfb-4298-b484-09c9633410e4",
   "metadata": {},
   "outputs": [],
   "source": [
    "import numpy as np\n",
    "\n",
    "def get_context(seg, word):\n",
    "    if word.mark.count(seg.mark) == 1:\n",
    "        if word.mark.index(seg.mark) == 0:\n",
    "            return 'initial'\n",
    "        elif word.mark.index(seg.mark) == len(word.mark) - 1:\n",
    "            return 'final'\n",
    "        else:\n",
    "            return 'medial'\n",
    "    else:\n",
    "        print(f'several {seg.mark} found in {word.mark}')\n",
    "        if np.isclose(seg.minTime, word.minTime, 1e-3):\n",
    "            return 'initial'\n",
    "        elif np.isclose(seg.maxTime, word.maxTime, 1e-3):\n",
    "            return 'final'\n",
    "        else:\n",
    "            return 'medial'\n",
    "    \n",
    "def get_vot(seg, burst):\n",
    "    return seg.maxTime - burst.time\n",
    "\n",
    "def get_segments(word, segments, tol=.8):\n",
    "    res = []\n",
    "    for seg in segments:\n",
    "        intersection = (min(word.maxTime, seg.maxTime) - max(word.minTime, seg.maxTime)) / (seg.maxTime - seg.minTime + 1e-6)\n",
    "        if intersection > tol or np.isclose(intersection, 0, 1e-3):\n",
    "            res.append(seg)\n",
    "    return res\n",
    "\n",
    "def get_word(seg, words, tol=.8):\n",
    "    for word in words:\n",
    "        intersection = (min(word.maxTime, seg.maxTime) - max(word.minTime, seg.maxTime)) / (seg.maxTime - seg.minTime + 1e-6)\n",
    "        if intersection > tol or np.isclose(intersection, 0, 1e-3):\n",
    "            return word\n",
    "        \n",
    "def get_burst(seg, bursts):\n",
    "    idx = np.argmin(np.array([abs(seg.minTime - burst.time) for burst in bursts]))\n",
    "    return bursts[idx]\n",
    "\n",
    "def get_voiced(seg, voiced, tol=.8):\n",
    "    for voi in voiced:\n",
    "        intersection = (min(voi.maxTime, seg.maxTime) - max(voi.minTime, seg.maxTime)) / (seg.maxTime - seg.minTime + 1e-6)\n",
    "        if intersection > tol or np.isclose(intersection, 0, 1e-3):\n",
    "            return voi"
   ]
  },
  {
   "cell_type": "code",
   "execution_count": 128,
   "id": "218337ce-9e86-40a2-a626-41df27c1a9e7",
   "metadata": {},
   "outputs": [],
   "source": [
    "# колонки: segment (str), voiced (bool), context (List[initial, final, medial]), burst (bool), VOT, duration (float)\n",
    "import pandas as pd\n",
    "\n",
    "df_raw = pd.DataFrame({\n",
    "    'segment': segments,\n",
    "    'voiced': [get_voiced(seg, voiced) for seg in segments],\n",
    "    'burst': [get_burst(seg, bursts) if seg.mark in ['б', 'п', 'т', 'д', 'к', 'г'] else None for seg in segments],\n",
    "    'word': [get_word(seg, words) for seg in segments],\n",
    "    'duration': [abs(seg.maxTime - seg.minTime) for seg in segments]\n",
    "}).dropna(subset=['voiced', 'word'])"
   ]
  },
  {
   "cell_type": "code",
   "execution_count": 129,
   "id": "7d15aa80-2439-45ec-9691-1f54de663f86",
   "metadata": {
    "collapsed": true,
    "jupyter": {
     "outputs_hidden": true
    },
    "tags": []
   },
   "outputs": [
    {
     "name": "stdout",
     "output_type": "stream",
     "text": [
      "several т found in тут-то\n",
      "several т found in тут-то\n",
      "several к found in как\n",
      "several т found in интернате\n",
      "several т found in работает\n",
      "several т found in работает\n",
      "several т found in воспитательница\n",
      "several т found in воспитательница\n",
      "several к found in канецкая\n",
      "several с found in сестрам\n",
      "several д found in да-да\n",
      "several д found in да-да\n",
      "several т found in тут\n",
      "several т found in тут\n",
      "several д found in дедушка\n",
      "several д found in дедушка\n",
      "several в found in звероводом\n",
      "several в found in звероводом\n",
      "several в found in верхнепуровский\n",
      "several с found in таркосалинский\n",
      "several с found in восемьдесят\n",
      "several т found in детей-то\n",
      "several т found in детей-то\n",
      "several т found in тут\n",
      "several т found in тут\n",
      "several т found in тут\n",
      "several т found in подметать\n",
      "several т found in воспитательница\n",
      "several т found in воспитательница\n",
      "several т found in топить\n",
      "several т found in топить\n",
      "several т found in интернате\n",
      "several т found in воспитательница\n",
      "several т found in воспитательница\n",
      "several с found in салехардский\n",
      "several т found in учителей-то\n",
      "several т found in учителей-то\n",
      "several с found in шестьдесят\n",
      "several к found in как-то\n",
      "several с found in классе\n",
      "several к found in да\n",
      "several в found in переворачивайте\n",
      "several в found in переворачивайте\n",
      "several к found in кусочкам\n",
      "several к found in как\n",
      "several п found in попало\n",
      "several п found in по-селькупски\n",
      "several с found in по-селькупски\n",
      "several в found in разговаривали\n",
      "several б found in бабушка\n",
      "several б found in бабушка\n",
      "several т found in не хотят\n",
      "several т found in не хотят\n",
      "several п found in преподают\n",
      "several п found in преподают\n",
      "several т found in так-то\n",
      "several в found in разговаривать\n",
      "several в found in разговаривать\n",
      "several т found in  \n",
      "several б found in бабушками\n",
      "several б found in бабушками\n",
      "several д found in дедушками\n",
      "several д found in дедушками\n",
      "several т found in кто-то\n",
      "several т found in кто-то\n",
      "several к found in как\n",
      "several к found in как\n",
      "several в found in этого\n",
      "several с found in тарко-салинские\n",
      "several к found in как\n",
      "several д found in да-да-да\n",
      "several д found in да-да-да\n",
      "several д found in да-да-да\n",
      "several к found in как-то\n",
      "several б found in этом\n",
      "several к found in какая-то\n",
      "several к found in какая-то\n",
      "several к found in как\n",
      "several к found in какой-то\n",
      "several к found in какой-то\n",
      "several т found in тот\n",
      "several к found in как\n"
     ]
    }
   ],
   "source": [
    "VOTs = []\n",
    "contexts = []\n",
    "\n",
    "for seg, burst in zip(df_raw.segment.values, df_raw.burst.values):\n",
    "    if burst is None:\n",
    "        VOTs.append(None)\n",
    "    else:\n",
    "        VOTs.append(get_vot(seg, burst))\n",
    "        \n",
    "for seg, word in zip(df_raw.segment.values, df_raw.word.values):\n",
    "    contexts.append(get_context(seg, word))"
   ]
  },
  {
   "cell_type": "code",
   "execution_count": 130,
   "id": "6c5dd522-753e-4713-a76c-70f11f5490a3",
   "metadata": {},
   "outputs": [],
   "source": [
    "df_raw['VOT'] = VOTs\n",
    "df_raw['context'] = contexts"
   ]
  },
  {
   "cell_type": "code",
   "execution_count": 131,
   "id": "c2ba9bea-3cf9-43ec-8355-b90b5010f9cf",
   "metadata": {},
   "outputs": [
    {
     "data": {
      "text/html": [
       "<div>\n",
       "<style scoped>\n",
       "    .dataframe tbody tr th:only-of-type {\n",
       "        vertical-align: middle;\n",
       "    }\n",
       "\n",
       "    .dataframe tbody tr th {\n",
       "        vertical-align: top;\n",
       "    }\n",
       "\n",
       "    .dataframe thead th {\n",
       "        text-align: right;\n",
       "    }\n",
       "</style>\n",
       "<table border=\"1\" class=\"dataframe\">\n",
       "  <thead>\n",
       "    <tr style=\"text-align: right;\">\n",
       "      <th></th>\n",
       "      <th>segment</th>\n",
       "      <th>voiced</th>\n",
       "      <th>burst</th>\n",
       "      <th>word</th>\n",
       "      <th>duration</th>\n",
       "      <th>VOT</th>\n",
       "      <th>context</th>\n",
       "    </tr>\n",
       "  </thead>\n",
       "  <tbody>\n",
       "    <tr>\n",
       "      <th>0</th>\n",
       "      <td>Interval(31.61043, 31.71894, к)</td>\n",
       "      <td>Interval(31.61043, 31.71894, -)</td>\n",
       "      <td>Point(31.70536, None)</td>\n",
       "      <td>Interval(31.4817, 32.17194, акичевы)</td>\n",
       "      <td>0.10851</td>\n",
       "      <td>0.01358</td>\n",
       "      <td>medial</td>\n",
       "    </tr>\n",
       "  </tbody>\n",
       "</table>\n",
       "</div>"
      ],
      "text/plain": [
       "                           segment                           voiced  \\\n",
       "0  Interval(31.61043, 31.71894, к)  Interval(31.61043, 31.71894, -)   \n",
       "\n",
       "                   burst                                  word  duration  \\\n",
       "0  Point(31.70536, None)  Interval(31.4817, 32.17194, акичевы)   0.10851   \n",
       "\n",
       "       VOT context  \n",
       "0  0.01358  medial  "
      ]
     },
     "execution_count": 131,
     "metadata": {},
     "output_type": "execute_result"
    }
   ],
   "source": [
    "df_raw.head(1)"
   ]
  },
  {
   "cell_type": "code",
   "execution_count": 157,
   "id": "c43f69ff-d71c-4ea5-9968-45cf9c21aa11",
   "metadata": {},
   "outputs": [
    {
     "name": "stderr",
     "output_type": "stream",
     "text": [
      "<ipython-input-157-c91369182865>:2: SettingWithCopyWarning: \n",
      "A value is trying to be set on a copy of a slice from a DataFrame.\n",
      "Try using .loc[row_indexer,col_indexer] = value instead\n",
      "\n",
      "See the caveats in the documentation: https://pandas.pydata.org/pandas-docs/stable/user_guide/indexing.html#returning-a-view-versus-a-copy\n",
      "  df['word'] = df_raw['word'].apply(lambda x: x.mark)\n",
      "<ipython-input-157-c91369182865>:3: SettingWithCopyWarning: \n",
      "A value is trying to be set on a copy of a slice from a DataFrame.\n",
      "Try using .loc[row_indexer,col_indexer] = value instead\n",
      "\n",
      "See the caveats in the documentation: https://pandas.pydata.org/pandas-docs/stable/user_guide/indexing.html#returning-a-view-versus-a-copy\n",
      "  df['segment'] = df_raw['segment'].apply(lambda x: x.mark)\n",
      "<ipython-input-157-c91369182865>:4: SettingWithCopyWarning: \n",
      "A value is trying to be set on a copy of a slice from a DataFrame.\n",
      "Try using .loc[row_indexer,col_indexer] = value instead\n",
      "\n",
      "See the caveats in the documentation: https://pandas.pydata.org/pandas-docs/stable/user_guide/indexing.html#returning-a-view-versus-a-copy\n",
      "  df['voiced'] = df_raw['voiced'].apply(lambda x: None if x is None else x.mark).map({'-': False, '+': True})\n"
     ]
    }
   ],
   "source": [
    "df = df_raw[['duration', 'VOT', 'context']]\n",
    "df['word'] = df_raw['word'].apply(lambda x: x.mark)\n",
    "df['segment'] = df_raw['segment'].apply(lambda x: x.mark)\n",
    "df['voiced'] = df_raw['voiced'].apply(lambda x: None if x is None else x.mark).map({'-': False, '+': True})\n",
    "df['burst'] = df_raw['burst'].apply(lambda x: x is not None)\n",
    "df = df.drop(14)"
   ]
  },
  {
   "cell_type": "code",
   "execution_count": 158,
   "id": "56a26355-fcb5-44a3-89bb-fe2645b3dbad",
   "metadata": {},
   "outputs": [
    {
     "data": {
      "text/html": [
       "<div>\n",
       "<style scoped>\n",
       "    .dataframe tbody tr th:only-of-type {\n",
       "        vertical-align: middle;\n",
       "    }\n",
       "\n",
       "    .dataframe tbody tr th {\n",
       "        vertical-align: top;\n",
       "    }\n",
       "\n",
       "    .dataframe thead th {\n",
       "        text-align: right;\n",
       "    }\n",
       "</style>\n",
       "<table border=\"1\" class=\"dataframe\">\n",
       "  <thead>\n",
       "    <tr style=\"text-align: right;\">\n",
       "      <th></th>\n",
       "      <th>duration</th>\n",
       "      <th>VOT</th>\n",
       "      <th>context</th>\n",
       "      <th>word</th>\n",
       "      <th>segment</th>\n",
       "      <th>voiced</th>\n",
       "      <th>burst</th>\n",
       "    </tr>\n",
       "  </thead>\n",
       "  <tbody>\n",
       "    <tr>\n",
       "      <th>0</th>\n",
       "      <td>0.10851</td>\n",
       "      <td>0.01358</td>\n",
       "      <td>medial</td>\n",
       "      <td>акичевы</td>\n",
       "      <td>к</td>\n",
       "      <td>False</td>\n",
       "      <td>True</td>\n",
       "    </tr>\n",
       "    <tr>\n",
       "      <th>1</th>\n",
       "      <td>0.05661</td>\n",
       "      <td>NaN</td>\n",
       "      <td>medial</td>\n",
       "      <td>акичевы</td>\n",
       "      <td>в</td>\n",
       "      <td>True</td>\n",
       "      <td>False</td>\n",
       "    </tr>\n",
       "    <tr>\n",
       "      <th>2</th>\n",
       "      <td>0.03750</td>\n",
       "      <td>0.00737</td>\n",
       "      <td>medial</td>\n",
       "      <td>акичевы</td>\n",
       "      <td>к</td>\n",
       "      <td>False</td>\n",
       "      <td>True</td>\n",
       "    </tr>\n",
       "    <tr>\n",
       "      <th>3</th>\n",
       "      <td>0.08013</td>\n",
       "      <td>NaN</td>\n",
       "      <td>medial</td>\n",
       "      <td>акичевы</td>\n",
       "      <td>в</td>\n",
       "      <td>True</td>\n",
       "      <td>False</td>\n",
       "    </tr>\n",
       "    <tr>\n",
       "      <th>4</th>\n",
       "      <td>0.05456</td>\n",
       "      <td>0.01546</td>\n",
       "      <td>initial</td>\n",
       "      <td>тундровики</td>\n",
       "      <td>т</td>\n",
       "      <td>False</td>\n",
       "      <td>True</td>\n",
       "    </tr>\n",
       "  </tbody>\n",
       "</table>\n",
       "</div>"
      ],
      "text/plain": [
       "   duration      VOT  context        word segment voiced  burst\n",
       "0   0.10851  0.01358   medial     акичевы       к  False   True\n",
       "1   0.05661      NaN   medial     акичевы       в   True  False\n",
       "2   0.03750  0.00737   medial     акичевы       к  False   True\n",
       "3   0.08013      NaN   medial     акичевы       в   True  False\n",
       "4   0.05456  0.01546  initial  тундровики       т  False   True"
      ]
     },
     "execution_count": 158,
     "metadata": {},
     "output_type": "execute_result"
    }
   ],
   "source": [
    "df.head()"
   ]
  },
  {
   "cell_type": "code",
   "execution_count": 159,
   "id": "f46e42eb-de4a-4c61-9ab7-88e69b96723f",
   "metadata": {},
   "outputs": [
    {
     "data": {
      "text/plain": [
       "duration      0\n",
       "VOT         318\n",
       "context       0\n",
       "word          0\n",
       "segment       0\n",
       "voiced        0\n",
       "burst         0\n",
       "dtype: int64"
      ]
     },
     "execution_count": 159,
     "metadata": {},
     "output_type": "execute_result"
    }
   ],
   "source": [
    "df.isna().sum()"
   ]
  },
  {
   "cell_type": "code",
   "execution_count": 160,
   "id": "089a71a7-000c-49d7-bf4a-fe2a39df3a83",
   "metadata": {},
   "outputs": [
    {
     "data": {
      "text/plain": [
       "medial     444\n",
       "initial    442\n",
       "final       47\n",
       "Name: context, dtype: int64"
      ]
     },
     "execution_count": 160,
     "metadata": {},
     "output_type": "execute_result"
    }
   ],
   "source": [
    "df.context.value_counts()"
   ]
  },
  {
   "cell_type": "code",
   "execution_count": 161,
   "id": "2a4504ac-1274-4da1-8f47-f39af7f21931",
   "metadata": {},
   "outputs": [],
   "source": [
    "df.to_csv('data/processed_ATL.csv')"
   ]
  },
  {
   "cell_type": "code",
   "execution_count": null,
   "id": "1821000b-f527-40a1-944a-162298b68774",
   "metadata": {},
   "outputs": [],
   "source": []
  },
  {
   "cell_type": "markdown",
   "id": "a5e7e4bf-a590-4aa1-988e-9c185cad1152",
   "metadata": {},
   "source": [
    "## look at data"
   ]
  },
  {
   "cell_type": "code",
   "execution_count": 76,
   "id": "9834aaf3-498b-4b95-87c9-4b043a29a9b2",
   "metadata": {},
   "outputs": [],
   "source": [
    "import pandas as pd\n",
    "\n",
    "df = pd.concat([\n",
    "    pd.read_csv('data/processed_ALK.csv', index_col='Unnamed: 0'),\n",
    "    pd.read_csv('data/processed_ATL.csv', index_col='Unnamed: 0'),\n",
    "]).reset_index(drop=True)"
   ]
  },
  {
   "cell_type": "code",
   "execution_count": 48,
   "id": "6a2e21bb-62c3-490e-865f-515978f3270f",
   "metadata": {},
   "outputs": [],
   "source": [
    "from scipy import stats\n",
    "\n",
    "idx = np.all(np.abs(stats.zscore(df[['VOT', 'duration']], nan_policy='omit')) < 3, axis=1)"
   ]
  },
  {
   "cell_type": "code",
   "execution_count": 49,
   "id": "f7231983-1d09-4ede-ac07-0d50f23b39c6",
   "metadata": {},
   "outputs": [
    {
     "data": {
      "text/plain": [
       "(1465, 7)"
      ]
     },
     "execution_count": 49,
     "metadata": {},
     "output_type": "execute_result"
    }
   ],
   "source": [
    "df.loc[idx].shape"
   ]
  },
  {
   "cell_type": "code",
   "execution_count": 50,
   "id": "573c872b-9755-4146-ba2e-1eba0bbf51ba",
   "metadata": {},
   "outputs": [],
   "source": [
    "df = df.loc[idx]"
   ]
  },
  {
   "cell_type": "code",
   "execution_count": 77,
   "id": "b59d5e9f-4a2b-46dc-9062-56ad5d40a969",
   "metadata": {},
   "outputs": [
    {
     "data": {
      "text/plain": [
       "duration      0\n",
       "VOT         739\n",
       "context       0\n",
       "word          0\n",
       "segment       0\n",
       "voiced        0\n",
       "burst         0\n",
       "dtype: int64"
      ]
     },
     "execution_count": 77,
     "metadata": {},
     "output_type": "execute_result"
    }
   ],
   "source": [
    "df.isna().sum()"
   ]
  },
  {
   "cell_type": "code",
   "execution_count": 52,
   "id": "25e4d703-f328-493a-9c0e-5555c8ddf487",
   "metadata": {},
   "outputs": [
    {
     "data": {
      "text/plain": [
       "initial    1161\n",
       "medial      243\n",
       "final        61\n",
       "Name: context, dtype: int64"
      ]
     },
     "execution_count": 52,
     "metadata": {},
     "output_type": "execute_result"
    }
   ],
   "source": [
    "df.context.value_counts()"
   ]
  },
  {
   "cell_type": "code",
   "execution_count": 53,
   "id": "d94b2fd4-2be3-42a4-a10c-6c688ae1b1ed",
   "metadata": {},
   "outputs": [
    {
     "data": {
      "text/plain": [
       "т    502\n",
       "д    319\n",
       "п    211\n",
       "к    210\n",
       "б    140\n",
       "г     83\n",
       "Name: segment, dtype: int64"
      ]
     },
     "execution_count": 53,
     "metadata": {},
     "output_type": "execute_result"
    }
   ],
   "source": [
    "df.segment.value_counts()"
   ]
  },
  {
   "cell_type": "code",
   "execution_count": 80,
   "id": "71abf584-4e9c-4a1b-8cf0-c7fa3b3a4a38",
   "metadata": {},
   "outputs": [
    {
     "name": "stdout",
     "output_type": "stream",
     "text": [
      "\\begin{tabular}{lrrr}\n",
      "\\toprule\n",
      "{} &  duration &    VOT &  voiced \\\\\n",
      "segment &           &        &         \\\\\n",
      "\\midrule\n",
      "п       &     0.076 &  0.046 &   0.020 \\\\\n",
      "б       &     0.084 &  0.019 &   0.230 \\\\\n",
      "т       &     0.081 &  0.032 &   0.005 \\\\\n",
      "д       &     0.079 &  0.042 &   0.522 \\\\\n",
      "к       &     0.079 &  0.053 &   0.000 \\\\\n",
      "г       &     0.078 & -0.006 &   0.388 \\\\\n",
      "\\bottomrule\n",
      "\\end{tabular}\n",
      "\n"
     ]
    },
    {
     "name": "stderr",
     "output_type": "stream",
     "text": [
      "<ipython-input-80-757c87d1c42a>:1: FutureWarning: The default value of numeric_only in DataFrameGroupBy.mean is deprecated. In a future version, numeric_only will default to False. Either specify numeric_only or select only columns which should be valid for the function.\n",
      "  stop_df = df.loc[df.context == 'initial']\\\n",
      "<ipython-input-80-757c87d1c42a>:8: FutureWarning: In future versions `DataFrame.to_latex` is expected to utilise the base implementation of `Styler.to_latex` for formatting and rendering. The arguments signature may therefore change. It is recommended instead to use `DataFrame.style.to_latex` which also contains additional functionality.\n",
      "  print(stop_df.to_latex())\n"
     ]
    }
   ],
   "source": [
    "stop_df = df.loc[df.context == 'initial']\\\n",
    "    .groupby('segment')\\\n",
    "    .mean()[['duration', 'VOT', 'voiced']]\\\n",
    "    .round(3)\\\n",
    "    .dropna()\\\n",
    "    .loc[['п', 'б', 'т', 'д', 'к', 'г',]]\n",
    "\n",
    "print(stop_df.to_latex())"
   ]
  },
  {
   "cell_type": "code",
   "execution_count": 78,
   "id": "8dc44fc2-fd62-41f6-98bf-c0eb4cc2ae7c",
   "metadata": {},
   "outputs": [
    {
     "name": "stdout",
     "output_type": "stream",
     "text": [
      "\\begin{tabular}{lrrr}\n",
      "\\toprule\n",
      "{} &  duration &  voiced &  count \\\\\n",
      "segment &           &         &        \\\\\n",
      "\\midrule\n",
      "ф       &     0.096 &   0.000 &     10 \\\\\n",
      "в       &     0.077 &   0.954 &    219 \\\\\n",
      "ш       &     0.122 &   0.000 &     69 \\\\\n",
      "ж       &     0.103 &   0.083 &    168 \\\\\n",
      "с       &     0.105 &   0.006 &    166 \\\\\n",
      "з       &     0.113 &   0.140 &    107 \\\\\n",
      "\\bottomrule\n",
      "\\end{tabular}\n",
      "\n"
     ]
    },
    {
     "name": "stderr",
     "output_type": "stream",
     "text": [
      "<ipython-input-78-6fb50fd1140d>:1: FutureWarning: The default value of numeric_only in DataFrameGroupBy.mean is deprecated. In a future version, numeric_only will default to False. Either specify numeric_only or select only columns which should be valid for the function.\n",
      "  fric_df = df.groupby('segment').mean()[['duration', 'VOT', 'voiced']].round(3).loc[['ф', 'в', 'ш', 'ж', 'с', 'з',]]\n",
      "<ipython-input-78-6fb50fd1140d>:3: FutureWarning: In future versions `DataFrame.to_latex` is expected to utilise the base implementation of `Styler.to_latex` for formatting and rendering. The arguments signature may therefore change. It is recommended instead to use `DataFrame.style.to_latex` which also contains additional functionality.\n",
      "  print(fric_df[['duration', 'voiced', 'count']].to_latex())\n"
     ]
    }
   ],
   "source": [
    "fric_df = df.groupby('segment').mean()[['duration', 'VOT', 'voiced']].round(3).loc[['ф', 'в', 'ш', 'ж', 'с', 'з',]]\n",
    "fric_df['count'] = df.segment.value_counts()[fric_df.index]\n",
    "print(fric_df[['duration', 'voiced', 'count']].to_latex())"
   ]
  },
  {
   "cell_type": "markdown",
   "id": "3ae3d803-45bc-49a3-b4b9-47ac18e6c6ba",
   "metadata": {},
   "source": [
    "## compare with observed distributions for Russian"
   ]
  },
  {
   "cell_type": "code",
   "execution_count": 56,
   "id": "8a4ee46f-ae0f-407c-a35b-e954f0662a90",
   "metadata": {},
   "outputs": [],
   "source": [
    "import scipy.stats as sps"
   ]
  },
  {
   "cell_type": "code",
   "execution_count": 57,
   "id": "356f6254-ba74-4c92-8f0a-48770bdf53c1",
   "metadata": {},
   "outputs": [
    {
     "data": {
      "text/html": [
       "<div>\n",
       "<style scoped>\n",
       "    .dataframe tbody tr th:only-of-type {\n",
       "        vertical-align: middle;\n",
       "    }\n",
       "\n",
       "    .dataframe tbody tr th {\n",
       "        vertical-align: top;\n",
       "    }\n",
       "\n",
       "    .dataframe thead th {\n",
       "        text-align: right;\n",
       "    }\n",
       "</style>\n",
       "<table border=\"1\" class=\"dataframe\">\n",
       "  <thead>\n",
       "    <tr style=\"text-align: right;\">\n",
       "      <th></th>\n",
       "      <th>duration</th>\n",
       "      <th>VOT</th>\n",
       "      <th>context</th>\n",
       "      <th>word</th>\n",
       "      <th>segment</th>\n",
       "      <th>voiced</th>\n",
       "      <th>burst</th>\n",
       "    </tr>\n",
       "  </thead>\n",
       "  <tbody>\n",
       "    <tr>\n",
       "      <th>0</th>\n",
       "      <td>0.05291</td>\n",
       "      <td>0.01873</td>\n",
       "      <td>initial</td>\n",
       "      <td>да</td>\n",
       "      <td>д</td>\n",
       "      <td>True</td>\n",
       "      <td>True</td>\n",
       "    </tr>\n",
       "    <tr>\n",
       "      <th>1</th>\n",
       "      <td>0.08954</td>\n",
       "      <td>0.01482</td>\n",
       "      <td>medial</td>\n",
       "      <td>рода</td>\n",
       "      <td>д</td>\n",
       "      <td>False</td>\n",
       "      <td>True</td>\n",
       "    </tr>\n",
       "    <tr>\n",
       "      <th>2</th>\n",
       "      <td>0.11897</td>\n",
       "      <td>0.02550</td>\n",
       "      <td>initial</td>\n",
       "      <td>та</td>\n",
       "      <td>т</td>\n",
       "      <td>False</td>\n",
       "      <td>True</td>\n",
       "    </tr>\n",
       "    <tr>\n",
       "      <th>4</th>\n",
       "      <td>0.09797</td>\n",
       "      <td>0.04897</td>\n",
       "      <td>initial</td>\n",
       "      <td>была</td>\n",
       "      <td>б</td>\n",
       "      <td>False</td>\n",
       "      <td>True</td>\n",
       "    </tr>\n",
       "    <tr>\n",
       "      <th>5</th>\n",
       "      <td>0.07025</td>\n",
       "      <td>0.01874</td>\n",
       "      <td>medial</td>\n",
       "      <td>хантыйка</td>\n",
       "      <td>к</td>\n",
       "      <td>False</td>\n",
       "      <td>True</td>\n",
       "    </tr>\n",
       "    <tr>\n",
       "      <th>...</th>\n",
       "      <td>...</td>\n",
       "      <td>...</td>\n",
       "      <td>...</td>\n",
       "      <td>...</td>\n",
       "      <td>...</td>\n",
       "      <td>...</td>\n",
       "      <td>...</td>\n",
       "    </tr>\n",
       "    <tr>\n",
       "      <th>2237</th>\n",
       "      <td>0.10366</td>\n",
       "      <td>0.01890</td>\n",
       "      <td>initial</td>\n",
       "      <td>пять</td>\n",
       "      <td>п</td>\n",
       "      <td>False</td>\n",
       "      <td>True</td>\n",
       "    </tr>\n",
       "    <tr>\n",
       "      <th>2238</th>\n",
       "      <td>0.20180</td>\n",
       "      <td>0.09079</td>\n",
       "      <td>medial</td>\n",
       "      <td>один</td>\n",
       "      <td>д</td>\n",
       "      <td>True</td>\n",
       "      <td>True</td>\n",
       "    </tr>\n",
       "    <tr>\n",
       "      <th>2239</th>\n",
       "      <td>0.08569</td>\n",
       "      <td>0.02960</td>\n",
       "      <td>initial</td>\n",
       "      <td>да</td>\n",
       "      <td>д</td>\n",
       "      <td>False</td>\n",
       "      <td>True</td>\n",
       "    </tr>\n",
       "    <tr>\n",
       "      <th>2243</th>\n",
       "      <td>0.15847</td>\n",
       "      <td>0.04363</td>\n",
       "      <td>initial</td>\n",
       "      <td>полы</td>\n",
       "      <td>п</td>\n",
       "      <td>False</td>\n",
       "      <td>True</td>\n",
       "    </tr>\n",
       "    <tr>\n",
       "      <th>2244</th>\n",
       "      <td>0.17829</td>\n",
       "      <td>0.05655</td>\n",
       "      <td>medial</td>\n",
       "      <td>обычай</td>\n",
       "      <td>б</td>\n",
       "      <td>False</td>\n",
       "      <td>True</td>\n",
       "    </tr>\n",
       "  </tbody>\n",
       "</table>\n",
       "<p>1465 rows × 7 columns</p>\n",
       "</div>"
      ],
      "text/plain": [
       "      duration      VOT  context      word segment  voiced  burst\n",
       "0      0.05291  0.01873  initial        да       д    True   True\n",
       "1      0.08954  0.01482   medial      рода       д   False   True\n",
       "2      0.11897  0.02550  initial        та       т   False   True\n",
       "4      0.09797  0.04897  initial      была       б   False   True\n",
       "5      0.07025  0.01874   medial  хантыйка       к   False   True\n",
       "...        ...      ...      ...       ...     ...     ...    ...\n",
       "2237   0.10366  0.01890  initial      пять       п   False   True\n",
       "2238   0.20180  0.09079   medial      один       д    True   True\n",
       "2239   0.08569  0.02960  initial        да       д   False   True\n",
       "2243   0.15847  0.04363  initial      полы       п   False   True\n",
       "2244   0.17829  0.05655   medial    обычай       б   False   True\n",
       "\n",
       "[1465 rows x 7 columns]"
      ]
     },
     "execution_count": 57,
     "metadata": {},
     "output_type": "execute_result"
    }
   ],
   "source": [
    "df"
   ]
  },
  {
   "cell_type": "code",
   "execution_count": 88,
   "id": "00b220d1-cfc2-4970-a692-f61767beff0c",
   "metadata": {},
   "outputs": [
    {
     "data": {
      "text/html": [
       "<div>\n",
       "<style scoped>\n",
       "    .dataframe tbody tr th:only-of-type {\n",
       "        vertical-align: middle;\n",
       "    }\n",
       "\n",
       "    .dataframe tbody tr th {\n",
       "        vertical-align: top;\n",
       "    }\n",
       "\n",
       "    .dataframe thead th {\n",
       "        text-align: right;\n",
       "    }\n",
       "</style>\n",
       "<table border=\"1\" class=\"dataframe\">\n",
       "  <thead>\n",
       "    <tr style=\"text-align: right;\">\n",
       "      <th></th>\n",
       "      <th>duration</th>\n",
       "      <th>VOT</th>\n",
       "      <th>context</th>\n",
       "      <th>word</th>\n",
       "      <th>segment</th>\n",
       "      <th>voiced</th>\n",
       "      <th>burst</th>\n",
       "    </tr>\n",
       "  </thead>\n",
       "  <tbody>\n",
       "    <tr>\n",
       "      <th>822</th>\n",
       "      <td>0.08414</td>\n",
       "      <td>NaN</td>\n",
       "      <td>initial</td>\n",
       "      <td>женщина</td>\n",
       "      <td>ж</td>\n",
       "      <td>False</td>\n",
       "      <td>False</td>\n",
       "    </tr>\n",
       "    <tr>\n",
       "      <th>523</th>\n",
       "      <td>0.05796</td>\n",
       "      <td>NaN</td>\n",
       "      <td>initial</td>\n",
       "      <td>замуж</td>\n",
       "      <td>з</td>\n",
       "      <td>False</td>\n",
       "      <td>False</td>\n",
       "    </tr>\n",
       "    <tr>\n",
       "      <th>1809</th>\n",
       "      <td>0.13383</td>\n",
       "      <td>0.06864</td>\n",
       "      <td>medial</td>\n",
       "      <td>родители</td>\n",
       "      <td>т</td>\n",
       "      <td>False</td>\n",
       "      <td>True</td>\n",
       "    </tr>\n",
       "    <tr>\n",
       "      <th>1721</th>\n",
       "      <td>0.12105</td>\n",
       "      <td>0.03471</td>\n",
       "      <td>medial</td>\n",
       "      <td>сушите</td>\n",
       "      <td>т</td>\n",
       "      <td>False</td>\n",
       "      <td>True</td>\n",
       "    </tr>\n",
       "    <tr>\n",
       "      <th>1210</th>\n",
       "      <td>0.07233</td>\n",
       "      <td>0.02442</td>\n",
       "      <td>initial</td>\n",
       "      <td>перед</td>\n",
       "      <td>п</td>\n",
       "      <td>False</td>\n",
       "      <td>True</td>\n",
       "    </tr>\n",
       "    <tr>\n",
       "      <th>1785</th>\n",
       "      <td>0.14242</td>\n",
       "      <td>NaN</td>\n",
       "      <td>initial</td>\n",
       "      <td>семьям</td>\n",
       "      <td>с</td>\n",
       "      <td>False</td>\n",
       "      <td>False</td>\n",
       "    </tr>\n",
       "    <tr>\n",
       "      <th>1930</th>\n",
       "      <td>0.08595</td>\n",
       "      <td>0.02788</td>\n",
       "      <td>initial</td>\n",
       "      <td>перевести</td>\n",
       "      <td>п</td>\n",
       "      <td>False</td>\n",
       "      <td>True</td>\n",
       "    </tr>\n",
       "    <tr>\n",
       "      <th>1185</th>\n",
       "      <td>0.08266</td>\n",
       "      <td>0.05780</td>\n",
       "      <td>initial</td>\n",
       "      <td>показать</td>\n",
       "      <td>п</td>\n",
       "      <td>False</td>\n",
       "      <td>True</td>\n",
       "    </tr>\n",
       "    <tr>\n",
       "      <th>979</th>\n",
       "      <td>0.13285</td>\n",
       "      <td>NaN</td>\n",
       "      <td>initial</td>\n",
       "      <td>жить</td>\n",
       "      <td>ж</td>\n",
       "      <td>False</td>\n",
       "      <td>False</td>\n",
       "    </tr>\n",
       "    <tr>\n",
       "      <th>1496</th>\n",
       "      <td>0.06138</td>\n",
       "      <td>0.02592</td>\n",
       "      <td>initial</td>\n",
       "      <td>потом</td>\n",
       "      <td>п</td>\n",
       "      <td>False</td>\n",
       "      <td>True</td>\n",
       "    </tr>\n",
       "  </tbody>\n",
       "</table>\n",
       "</div>"
      ],
      "text/plain": [
       "      duration      VOT  context       word segment  voiced  burst\n",
       "822    0.08414      NaN  initial    женщина       ж   False  False\n",
       "523    0.05796      NaN  initial      замуж       з   False  False\n",
       "1809   0.13383  0.06864   medial   родители       т   False   True\n",
       "1721   0.12105  0.03471   medial     сушите       т   False   True\n",
       "1210   0.07233  0.02442  initial      перед       п   False   True\n",
       "1785   0.14242      NaN  initial     семьям       с   False  False\n",
       "1930   0.08595  0.02788  initial  перевести       п   False   True\n",
       "1185   0.08266  0.05780  initial   показать       п   False   True\n",
       "979    0.13285      NaN  initial       жить       ж   False  False\n",
       "1496   0.06138  0.02592  initial      потом       п   False   True"
      ]
     },
     "execution_count": 88,
     "metadata": {},
     "output_type": "execute_result"
    }
   ],
   "source": [
    "df.loc[~df.voiced]"
   ]
  },
  {
   "cell_type": "code",
   "execution_count": 86,
   "id": "41168bfe-b9f6-416b-a1a3-e6e58b0eaf9a",
   "metadata": {},
   "outputs": [
    {
     "name": "stdout",
     "output_type": "stream",
     "text": [
      "\\begin{tabular}{lr}\n",
      "\\toprule\n",
      "{} &  context \\\\\n",
      "\\midrule\n",
      "initial &     1670 \\\\\n",
      "medial  &      489 \\\\\n",
      "final   &       88 \\\\\n",
      "\\bottomrule\n",
      "\\end{tabular}\n",
      "\n"
     ]
    },
    {
     "name": "stderr",
     "output_type": "stream",
     "text": [
      "<ipython-input-86-5a712c10e110>:1: FutureWarning: In future versions `DataFrame.to_latex` is expected to utilise the base implementation of `Styler.to_latex` for formatting and rendering. The arguments signature may therefore change. It is recommended instead to use `DataFrame.style.to_latex` which also contains additional functionality.\n",
      "  print(df.context.value_counts().to_latex())\n"
     ]
    }
   ],
   "source": [
    "print(df.context.value_counts().to_latex())"
   ]
  },
  {
   "cell_type": "code",
   "execution_count": 81,
   "id": "f79046ef-ed67-4c3e-b751-ef712d652e98",
   "metadata": {},
   "outputs": [
    {
     "name": "stdout",
     "output_type": "stream",
     "text": [
      "\\begin{tabular}{lrrr}\n",
      "\\toprule\n",
      "{} &  count &   mean &    std \\\\\n",
      "segment &        &        &        \\\\\n",
      "\\midrule\n",
      "п       &    212 &  0.045 &  0.121 \\\\\n",
      "б       &    141 &  0.022 &  0.116 \\\\\n",
      "т       &    525 &  0.033 &  0.217 \\\\\n",
      "д       &    327 &  0.040 &  0.212 \\\\\n",
      "к       &    217 &  0.055 &  0.299 \\\\\n",
      "г       &     86 & -0.015 &  0.294 \\\\\n",
      "\\bottomrule\n",
      "\\end{tabular}\n",
      "\n"
     ]
    },
    {
     "name": "stderr",
     "output_type": "stream",
     "text": [
      "<ipython-input-81-24048ab87a9c>:3: FutureWarning: In future versions `DataFrame.to_latex` is expected to utilise the base implementation of `Styler.to_latex` for formatting and rendering. The arguments signature may therefore change. It is recommended instead to use `DataFrame.style.to_latex` which also contains additional functionality.\n",
      "  print(vots.to_latex())\n"
     ]
    }
   ],
   "source": [
    "vots = df.groupby('segment').describe()['VOT'][['count', 'mean', 'std']].round(3).loc[['п', 'б', 'т', 'д', 'к', 'г',]]\n",
    "vots['count'] = vots['count'].astype(int)\n",
    "print(vots.to_latex())"
   ]
  },
  {
   "cell_type": "code",
   "execution_count": 83,
   "id": "0115f5b6-4abc-4d83-8c79-9376cf297624",
   "metadata": {},
   "outputs": [
    {
     "name": "stdout",
     "output_type": "stream",
     "text": [
      "\\begin{tabular}{lr}\n",
      "\\toprule\n",
      "{} &  count \\\\\n",
      "segment &        \\\\\n",
      "\\midrule\n",
      "т       &    525 \\\\\n",
      "д       &    327 \\\\\n",
      "к       &    217 \\\\\n",
      "п       &    212 \\\\\n",
      "б       &    141 \\\\\n",
      "г       &     86 \\\\\n",
      "\\bottomrule\n",
      "\\end{tabular}\n",
      "\n"
     ]
    },
    {
     "name": "stderr",
     "output_type": "stream",
     "text": [
      "<ipython-input-83-20d48ee78c99>:1: FutureWarning: In future versions `DataFrame.to_latex` is expected to utilise the base implementation of `Styler.to_latex` for formatting and rendering. The arguments signature may therefore change. It is recommended instead to use `DataFrame.style.to_latex` which also contains additional functionality.\n",
      "  print(vots[['count']].sort_values('count', ascending=False).to_latex())\n"
     ]
    }
   ],
   "source": [
    "print(vots[['count']].sort_values('count', ascending=False).to_latex())"
   ]
  },
  {
   "cell_type": "code",
   "execution_count": 66,
   "id": "836b0371-6608-406b-9fbc-2da313d79073",
   "metadata": {},
   "outputs": [
    {
     "data": {
      "text/html": [
       "<div>\n",
       "<style scoped>\n",
       "    .dataframe tbody tr th:only-of-type {\n",
       "        vertical-align: middle;\n",
       "    }\n",
       "\n",
       "    .dataframe tbody tr th {\n",
       "        vertical-align: top;\n",
       "    }\n",
       "\n",
       "    .dataframe thead th {\n",
       "        text-align: right;\n",
       "    }\n",
       "</style>\n",
       "<table border=\"1\" class=\"dataframe\">\n",
       "  <thead>\n",
       "    <tr style=\"text-align: right;\">\n",
       "      <th></th>\n",
       "      <th>mean</th>\n",
       "      <th>std</th>\n",
       "      <th>n_obs</th>\n",
       "    </tr>\n",
       "    <tr>\n",
       "      <th>segment</th>\n",
       "      <th></th>\n",
       "      <th></th>\n",
       "      <th></th>\n",
       "    </tr>\n",
       "  </thead>\n",
       "  <tbody>\n",
       "    <tr>\n",
       "      <th>п</th>\n",
       "      <td>0.018</td>\n",
       "      <td>0.008</td>\n",
       "      <td>186</td>\n",
       "    </tr>\n",
       "    <tr>\n",
       "      <th>б</th>\n",
       "      <td>-0.070</td>\n",
       "      <td>0.029</td>\n",
       "      <td>214</td>\n",
       "    </tr>\n",
       "    <tr>\n",
       "      <th>т</th>\n",
       "      <td>0.020</td>\n",
       "      <td>0.006</td>\n",
       "      <td>186</td>\n",
       "    </tr>\n",
       "    <tr>\n",
       "      <th>д</th>\n",
       "      <td>-0.075</td>\n",
       "      <td>0.029</td>\n",
       "      <td>214</td>\n",
       "    </tr>\n",
       "    <tr>\n",
       "      <th>к</th>\n",
       "      <td>0.038</td>\n",
       "      <td>0.012</td>\n",
       "      <td>186</td>\n",
       "    </tr>\n",
       "    <tr>\n",
       "      <th>г</th>\n",
       "      <td>-0.078</td>\n",
       "      <td>0.026</td>\n",
       "      <td>214</td>\n",
       "    </tr>\n",
       "  </tbody>\n",
       "</table>\n",
       "</div>"
      ],
      "text/plain": [
       "          mean    std  n_obs\n",
       "segment                     \n",
       "п        0.018  0.008    186\n",
       "б       -0.070  0.029    214\n",
       "т        0.020  0.006    186\n",
       "д       -0.075  0.029    214\n",
       "к        0.038  0.012    186\n",
       "г       -0.078  0.026    214"
      ]
     },
     "execution_count": 66,
     "metadata": {},
     "output_type": "execute_result"
    }
   ],
   "source": [
    "# initial stops only\n",
    "obs_vot = pd.read_csv('obs_stops.csv', sep='\\t', index_col='segment') / 1000\n",
    "obs_vot['n_obs'] = [20*2*14 // 3, 23*2*14 // 3] * 3 # have to approximate n_obs\n",
    "obs_vot"
   ]
  },
  {
   "cell_type": "code",
   "execution_count": 67,
   "id": "4d5edc62-21a3-49fd-a738-914ae44e7e04",
   "metadata": {},
   "outputs": [
    {
     "name": "stdout",
     "output_type": "stream",
     "text": [
      "\\begin{tabular}{rrr}\n",
      "\\toprule\n",
      " count &  mean &   std \\\\\n",
      "   211 & 0.038 & 0.057 \\\\\n",
      "\\midrule\n",
      "   140 & 0.030 & 0.070 \\\\\n",
      "   502 & 0.046 & 0.086 \\\\\n",
      "   319 & 0.044 & 0.081 \\\\\n",
      "   210 & 0.054 & 0.079 \\\\\n",
      "    83 & 0.028 & 0.066 \\\\\n",
      "\\bottomrule\n",
      "\\end{tabular}\n",
      "\n"
     ]
    },
    {
     "name": "stderr",
     "output_type": "stream",
     "text": [
      "<ipython-input-67-5d243e59aa06>:1: FutureWarning: In future versions `DataFrame.to_latex` is expected to utilise the base implementation of `Styler.to_latex` for formatting and rendering. The arguments signature may therefore change. It is recommended instead to use `DataFrame.style.to_latex` which also contains additional functionality.\n",
      "  print(vots.to_latex(index=False))\n"
     ]
    }
   ],
   "source": [
    "print(vots.to_latex(index=False))"
   ]
  },
  {
   "cell_type": "code",
   "execution_count": 68,
   "id": "f581918c-7e2f-4e76-8282-d14ae740945c",
   "metadata": {},
   "outputs": [
    {
     "name": "stdout",
     "output_type": "stream",
     "text": [
      "п\n",
      "=========================\n",
      "19.7\n",
      "Ttest_indResult(statistic=4.520763960317872, pvalue=8.237155300074708e-06)\n",
      "SIGNIFICANT\n",
      "\n",
      "\n",
      "\n",
      "б\n",
      "=========================\n",
      "97.7\n",
      "Ttest_indResult(statistic=17.19856286320086, pvalue=6.893161078602056e-48)\n",
      "SIGNIFICANT\n",
      "\n",
      "\n",
      "\n",
      "т\n",
      "=========================\n",
      "21.6\n",
      "Ttest_indResult(statistic=3.559396941047494, pvalue=0.0004033909898884233)\n",
      "SIGNIFICANT\n",
      "\n",
      "\n",
      "\n",
      "д\n",
      "=========================\n",
      "114.4\n",
      "Ttest_indResult(statistic=20.31004087052516, pvalue=7.308058803903097e-66)\n",
      "SIGNIFICANT\n",
      "\n",
      "\n",
      "\n",
      "к\n",
      "=========================\n",
      "13.6\n",
      "Ttest_indResult(statistic=2.182380671329948, pvalue=0.029763357877723797)\n",
      "SIGNIFICANT\n",
      "\n",
      "\n",
      "\n",
      "г\n",
      "=========================\n",
      "103.9\n",
      "Ttest_indResult(statistic=17.52425887518042, pvalue=7.859385048371351e-47)\n",
      "SIGNIFICANT\n",
      "\n",
      "\n",
      "\n"
     ]
    }
   ],
   "source": [
    "res = []\n",
    "\n",
    "for seg in stop_df.index:\n",
    "    subset = df.loc[(df.segment == seg) & (df.context == 'initial'), 'VOT']\n",
    "    mean = subset.mean()\n",
    "    std = subset.std()\n",
    "    n_obs = subset.shape[0]\n",
    "    test_res = sps.ttest_ind_from_stats(mean, std, n_obs,\n",
    "                             obs_vot.loc[seg, 'mean'],\n",
    "                             obs_vot.loc[seg, 'std'],\n",
    "                             obs_vot.loc[seg, 'n_obs'],\n",
    "                             )\n",
    "    print(seg, '=========================', sep='\\n')\n",
    "    print(round((mean - obs_vot.loc[seg, 'mean']) * 1000, 1)) \n",
    "    print(test_res)\n",
    "    if test_res.pvalue < 0.05:\n",
    "        print('SIGNIFICANT')\n",
    "    print('\\n\\n')\n",
    "    res.append({\n",
    "        'segment': seg,\n",
    "        'mean_obs': round(mean * 1000, 1), \n",
    "        'mean_exp': round(obs_vot.loc[seg, 'mean']* 1000, 1), \n",
    "        'p': round(test_res.pvalue, 5), \n",
    "        'significant': 'yes' if test_res.pvalue < 0.05 else 'no', \n",
    "    })"
   ]
  },
  {
   "cell_type": "code",
   "execution_count": 69,
   "id": "dc904cc3-3602-4b22-b703-415228800261",
   "metadata": {},
   "outputs": [
    {
     "name": "stdout",
     "output_type": "stream",
     "text": [
      "\\begin{tabular}{lrrrl}\n",
      "\\toprule\n",
      "segment &  mean\\_obs &  mean\\_exp &       p & significant \\\\\n",
      "\\midrule\n",
      "      п &      37.7 &      18.0 & 0.00001 &         yes \\\\\n",
      "      б &      27.7 &     -70.0 & 0.00000 &         yes \\\\\n",
      "      т &      41.6 &      20.0 & 0.00040 &         yes \\\\\n",
      "      д &      39.4 &     -75.0 & 0.00000 &         yes \\\\\n",
      "      к &      51.6 &      38.0 & 0.02976 &         yes \\\\\n",
      "      г &      25.9 &     -78.0 & 0.00000 &         yes \\\\\n",
      "\\bottomrule\n",
      "\\end{tabular}\n",
      "\n"
     ]
    },
    {
     "name": "stderr",
     "output_type": "stream",
     "text": [
      "<ipython-input-69-c23e3ee0867c>:1: FutureWarning: In future versions `DataFrame.to_latex` is expected to utilise the base implementation of `Styler.to_latex` for formatting and rendering. The arguments signature may therefore change. It is recommended instead to use `DataFrame.style.to_latex` which also contains additional functionality.\n",
      "  print(pd.DataFrame(res).to_latex(index=False))\n"
     ]
    }
   ],
   "source": [
    "print(pd.DataFrame(res).to_latex(index=False))"
   ]
  },
  {
   "cell_type": "code",
   "execution_count": 70,
   "id": "ef831529-1afe-4831-a59a-6c5e4616f5fc",
   "metadata": {},
   "outputs": [
    {
     "data": {
      "text/plain": [
       "т    39\n",
       "к    12\n",
       "д     9\n",
       "г     1\n",
       "Name: segment, dtype: int64"
      ]
     },
     "execution_count": 70,
     "metadata": {},
     "output_type": "execute_result"
    }
   ],
   "source": [
    "df.loc[df.context == 'final'].segment.value_counts()"
   ]
  },
  {
   "cell_type": "code",
   "execution_count": 71,
   "id": "db1e763d-f288-41b2-8bcf-218431ba5ef0",
   "metadata": {},
   "outputs": [
    {
     "data": {
      "text/plain": [
       "т    89\n",
       "д    64\n",
       "к    41\n",
       "б    19\n",
       "г    16\n",
       "п    14\n",
       "Name: segment, dtype: int64"
      ]
     },
     "execution_count": 71,
     "metadata": {},
     "output_type": "execute_result"
    }
   ],
   "source": [
    "df.loc[df.context == 'medial'].segment.value_counts()"
   ]
  },
  {
   "cell_type": "markdown",
   "id": "990656d4-034f-4dc7-9883-ea4943accfd1",
   "metadata": {},
   "source": [
    "Now we neutralise the laryngeal opposition"
   ]
  },
  {
   "cell_type": "code",
   "execution_count": 72,
   "id": "e3d9a5d4-1565-45ee-8875-881edb561213",
   "metadata": {},
   "outputs": [
    {
     "name": "stdout",
     "output_type": "stream",
     "text": [
      "п\n",
      "=========================\n",
      "19.7\n",
      "Ttest_indResult(statistic=4.520763960317872, pvalue=8.237155300074708e-06)\n",
      "SIGNIFICANT\n",
      "\n",
      "\n",
      "\n",
      "б\n",
      "=========================\n",
      "97.7\n",
      "Ttest_indResult(statistic=1.7823118121037522, pvalue=0.07569307814955548)\n",
      "\n",
      "\n",
      "\n",
      "т\n",
      "=========================\n",
      "21.6\n",
      "Ttest_indResult(statistic=3.559396941047494, pvalue=0.0004033909898884233)\n",
      "SIGNIFICANT\n",
      "\n",
      "\n",
      "\n",
      "д\n",
      "=========================\n",
      "114.4\n",
      "Ttest_indResult(statistic=3.388854244784011, pvalue=0.0007665574975494305)\n",
      "SIGNIFICANT\n",
      "\n",
      "\n",
      "\n",
      "к\n",
      "=========================\n",
      "13.6\n",
      "Ttest_indResult(statistic=2.182380671329948, pvalue=0.029763357877723797)\n",
      "SIGNIFICANT\n",
      "\n",
      "\n",
      "\n",
      "г\n",
      "=========================\n",
      "103.9\n",
      "Ttest_indResult(statistic=-2.188967266036443, pvalue=0.0295244580999751)\n",
      "SIGNIFICANT\n",
      "\n",
      "\n",
      "\n",
      "\\begin{tabular}{lrrrlr}\n",
      "\\toprule\n",
      "segment &  mean\\_obs &  mean\\_exp &       p & significant &  nobs \\\\\n",
      "\\midrule\n",
      "      п &      37.7 &      18.0 & 0.00001 &         yes &   197 \\\\\n",
      "      б &      27.7 &      18.0 & 0.07569 &          no &   121 \\\\\n",
      "      т &      41.6 &      20.0 & 0.00040 &         yes &   374 \\\\\n",
      "      д &      39.4 &      20.0 & 0.00077 &         yes &   246 \\\\\n",
      "      к &      51.6 &      38.0 & 0.02976 &         yes &   157 \\\\\n",
      "      г &      25.9 &      38.0 & 0.02952 &         yes &    66 \\\\\n",
      "\\bottomrule\n",
      "\\end{tabular}\n",
      "\n"
     ]
    },
    {
     "name": "stderr",
     "output_type": "stream",
     "text": [
      "<ipython-input-72-2236d497afc8>:42: FutureWarning: In future versions `DataFrame.to_latex` is expected to utilise the base implementation of `Styler.to_latex` for formatting and rendering. The arguments signature may therefore change. It is recommended instead to use `DataFrame.style.to_latex` which also contains additional functionality.\n",
      "  print(pd.DataFrame(res).to_latex(index=False))\n"
     ]
    }
   ],
   "source": [
    "neutralise_voice = {\n",
    "    'п': 'п',\n",
    "    'б': 'п',\n",
    "    'т': 'т',\n",
    "    'д': 'т',\n",
    "    'к': 'к',\n",
    "    'г': 'к',\n",
    "}\n",
    "\n",
    "res = []\n",
    "\n",
    "for seg in stop_df.index:\n",
    "    subset = df.loc[(df.segment == seg) & (df.context == 'initial'), 'VOT']\n",
    "    mean = subset.mean()\n",
    "    std = subset.std()\n",
    "    n_obs = subset.shape[0]\n",
    "    ###\n",
    "    map_seg = neutralise_voice[seg]\n",
    "    ###\n",
    "    test_res = sps.ttest_ind_from_stats(mean, std, n_obs,\n",
    "                             obs_vot.loc[map_seg, 'mean'],\n",
    "                             obs_vot.loc[map_seg, 'std'],\n",
    "                             obs_vot.loc[map_seg, 'n_obs'],\n",
    "                             alternative='two-sided'\n",
    "                             )\n",
    "    print(seg, '=========================', sep='\\n')\n",
    "    print(round((mean - obs_vot.loc[seg, 'mean']) * 1000, 1)) \n",
    "    print(test_res)\n",
    "    if test_res.pvalue < 0.05:\n",
    "        print('SIGNIFICANT')\n",
    "    print('\\n\\n')\n",
    "    \n",
    "    res.append({\n",
    "        'segment': seg,\n",
    "        'mean_obs': round(mean * 1000, 1), \n",
    "        'mean_exp': round(obs_vot.loc[map_seg, 'mean']* 1000, 1), \n",
    "        'p': round(test_res.pvalue, 5), \n",
    "        'significant': 'yes' if test_res.pvalue < 0.05 else 'no', \n",
    "        'nobs': n_obs\n",
    "    })\n",
    "    \n",
    "print(pd.DataFrame(res).to_latex(index=False))"
   ]
  },
  {
   "cell_type": "code",
   "execution_count": 73,
   "id": "82913c8d-7e4e-4d66-b94b-6fb355028bb1",
   "metadata": {},
   "outputs": [
    {
     "data": {
      "text/plain": [
       "т    502\n",
       "д    319\n",
       "п    211\n",
       "к    210\n",
       "б    140\n",
       "г     83\n",
       "Name: segment, dtype: int64"
      ]
     },
     "execution_count": 73,
     "metadata": {},
     "output_type": "execute_result"
    }
   ],
   "source": [
    "df.segment.value_counts()"
   ]
  },
  {
   "cell_type": "code",
   "execution_count": 74,
   "id": "b899eb87-1012-4a8a-ba20-584eed5a6e7c",
   "metadata": {},
   "outputs": [
    {
     "name": "stdout",
     "output_type": "stream",
     "text": [
      "п vs б\n",
      "=========================\n",
      "7.3\n",
      "Ttest_indResult(statistic=1.073604152513926, pvalue=0.2837418782440269)\n",
      "\n",
      "\n",
      "\n",
      "т vs д\n",
      "=========================\n",
      "2.1\n",
      "Ttest_indResult(statistic=0.35572770406850296, pvalue=0.7221360985220393)\n",
      "\n",
      "\n",
      "\n",
      "к vs г\n",
      "=========================\n",
      "26.1\n",
      "Ttest_indResult(statistic=2.659769162407239, pvalue=0.008252818454228797)\n",
      "SIGNIFICANT\n",
      "\n",
      "\n",
      "\n",
      "\\begin{tabular}{lrrrl}\n",
      "\\toprule\n",
      "segment &  mean\\_obs &  mean\\_exp &       p & significant \\\\\n",
      "\\midrule\n",
      " п vs б &      37.6 &      30.2 & 0.28374 &          no \\\\\n",
      " т vs д &      45.7 &      43.6 & 0.72214 &          no \\\\\n",
      " к vs г &      54.2 &      28.2 & 0.00825 &         yes \\\\\n",
      "\\bottomrule\n",
      "\\end{tabular}\n",
      "\n"
     ]
    },
    {
     "name": "stderr",
     "output_type": "stream",
     "text": [
      "<ipython-input-74-0bd2e5a4a38b>:40: FutureWarning: In future versions `DataFrame.to_latex` is expected to utilise the base implementation of `Styler.to_latex` for formatting and rendering. The arguments signature may therefore change. It is recommended instead to use `DataFrame.style.to_latex` which also contains additional functionality.\n",
      "  print(pd.DataFrame(res).to_latex(index=False))\n"
     ]
    }
   ],
   "source": [
    "voice_pairs = [\n",
    "    ('п', 'б'),\n",
    "    ('т', 'д'),\n",
    "    ('к', 'г'),\n",
    "]\n",
    "\n",
    "res = []\n",
    "\n",
    "for seg1, seg2 in voice_pairs:\n",
    "    subset1 = df.loc[df.segment == seg1, 'VOT']\n",
    "    mean1 = subset1.mean()\n",
    "    std1 = subset1.std()\n",
    "    n_obs1 = subset1.shape[0]\n",
    "\n",
    "    subset2 = df.loc[df.segment == seg2, 'VOT']\n",
    "    mean2 = subset2.mean()\n",
    "    std2 = subset2.std()\n",
    "    n_obs2 = subset2.shape[0]\n",
    "\n",
    "    test_res = sps.ttest_ind_from_stats(\n",
    "        mean1, std1, n_obs1,\n",
    "        mean2, std2, n_obs2,\n",
    "    )\n",
    "    \n",
    "    print(f'{seg1} vs {seg2}', '=========================', sep='\\n')\n",
    "    print(round((mean1 - mean2) * 1000, 1))\n",
    "    print(test_res)\n",
    "    if test_res.pvalue < 0.05:\n",
    "        print('SIGNIFICANT')\n",
    "    print('\\n\\n')\n",
    "    \n",
    "    res.append({\n",
    "        'segment': f'{seg1} vs {seg2}',\n",
    "        'mean_obs': round(mean1 * 1000, 1), \n",
    "        'mean_exp': round(mean2 * 1000, 1), \n",
    "        'p': round(test_res.pvalue, 5), \n",
    "        'significant': 'yes' if test_res.pvalue < 0.05 else 'no', \n",
    "    })\n",
    "    \n",
    "print(pd.DataFrame(res).to_latex(index=False))"
   ]
  },
  {
   "cell_type": "code",
   "execution_count": 75,
   "id": "2e0799ef-2738-4aef-add8-bfb91e66061a",
   "metadata": {},
   "outputs": [
    {
     "name": "stdout",
     "output_type": "stream",
     "text": [
      "п\n",
      "=========================\n",
      "not enough observations\n",
      "\n",
      "б\n",
      "=========================\n",
      "not enough observations\n",
      "\n",
      "т\n",
      "=========================\n",
      "24.1\n",
      "Ttest_indResult(statistic=1.6800232634779801, pvalue=0.09357742244465614)\n",
      "\n",
      "\n",
      "\n",
      "д\n",
      "=========================\n",
      "-15.4\n",
      "Ttest_indResult(statistic=-0.5652771787956233, pvalue=0.5722850932194199)\n",
      "\n",
      "\n",
      "\n",
      "к\n",
      "=========================\n",
      "-4.7\n",
      "Ttest_indResult(statistic=-0.20086286598083075, pvalue=0.8410020785989152)\n",
      "\n",
      "\n",
      "\n",
      "г\n",
      "=========================\n",
      "-8.0\n",
      "Ttest_indResult(statistic=nan, pvalue=nan)\n",
      "\n",
      "\n",
      "\n",
      "\\begin{tabular}{lrrrl}\n",
      "\\toprule\n",
      "segment &  mean\\_obs &  mean\\_exp &       p & significant \\\\\n",
      "\\midrule\n",
      "      т &      68.0 &      43.8 & 0.09358 &         нет \\\\\n",
      "      д &      28.6 &      44.0 & 0.57229 &         нет \\\\\n",
      "      к &      49.8 &      54.5 & 0.84100 &         нет \\\\\n",
      "      г &      20.3 &      28.3 &     NaN &         нет \\\\\n",
      "\\bottomrule\n",
      "\\end{tabular}\n",
      "\n"
     ]
    },
    {
     "name": "stderr",
     "output_type": "stream",
     "text": [
      "<ipython-input-75-47fc9929524f>:39: FutureWarning: In future versions `DataFrame.to_latex` is expected to utilise the base implementation of `Styler.to_latex` for formatting and rendering. The arguments signature may therefore change. It is recommended instead to use `DataFrame.style.to_latex` which also contains additional functionality.\n",
      "  print(pd.DataFrame(res).to_latex(index=False))\n"
     ]
    }
   ],
   "source": [
    "res = []\n",
    "\n",
    "for seg in stop_df.index:\n",
    "    subset1 = df.loc[(df.segment == seg) & (df.context == 'final'), 'VOT']\n",
    "    mean1 = subset1.mean()\n",
    "    std1 = subset1.std()\n",
    "    n_obs1 = subset1.shape[0]\n",
    "\n",
    "    subset2 = df.loc[(df.segment == seg) & (df.context != 'final'), 'VOT']\n",
    "    mean2 = subset2.mean()\n",
    "    std2 = subset2.std()\n",
    "    n_obs2 = subset2.shape[0]\n",
    "    \n",
    "    print(seg, '=========================', sep='\\n')\n",
    "    \n",
    "    try:\n",
    "        test_res = sps.ttest_ind_from_stats(\n",
    "            mean1, std1, n_obs1,\n",
    "            mean2, std2, n_obs2,\n",
    "        )\n",
    "    except ZeroDivisionError:\n",
    "        print('not enough observations', end='\\n\\n')\n",
    "        continue\n",
    "\n",
    "    print(round((mean1 - mean2) * 1000, 1)) \n",
    "    print(test_res)\n",
    "    if test_res.pvalue < 0.05:\n",
    "        print('SIGNIFICANT')\n",
    "    print('\\n\\n')\n",
    "    \n",
    "    res.append({\n",
    "        'segment': seg,\n",
    "        'mean_obs': round(mean1 * 1000, 1), \n",
    "        'mean_exp': round(mean2 * 1000, 1), \n",
    "        'p': round(test_res.pvalue, 5), \n",
    "        'significant': 'да' if test_res.pvalue < 0.05 else 'нет', \n",
    "    })\n",
    "    \n",
    "print(pd.DataFrame(res).to_latex(index=False))"
   ]
  },
  {
   "cell_type": "markdown",
   "id": "33a95ee6-7746-4816-9598-e6303b37a8a9",
   "metadata": {},
   "source": [
    "## contextual distribution of VOT"
   ]
  },
  {
   "cell_type": "code",
   "execution_count": 42,
   "id": "12c92f9d-93af-4543-aeed-13007f6439a6",
   "metadata": {},
   "outputs": [
    {
     "data": {
      "text/html": [
       "<div>\n",
       "<style scoped>\n",
       "    .dataframe tbody tr th:only-of-type {\n",
       "        vertical-align: middle;\n",
       "    }\n",
       "\n",
       "    .dataframe tbody tr th {\n",
       "        vertical-align: top;\n",
       "    }\n",
       "\n",
       "    .dataframe thead th {\n",
       "        text-align: right;\n",
       "    }\n",
       "</style>\n",
       "<table border=\"1\" class=\"dataframe\">\n",
       "  <thead>\n",
       "    <tr style=\"text-align: right;\">\n",
       "      <th></th>\n",
       "      <th>duration</th>\n",
       "      <th>VOT</th>\n",
       "    </tr>\n",
       "  </thead>\n",
       "  <tbody>\n",
       "    <tr>\n",
       "      <th>count</th>\n",
       "      <td>593.000000</td>\n",
       "      <td>593.000000</td>\n",
       "    </tr>\n",
       "    <tr>\n",
       "      <th>mean</th>\n",
       "      <td>0.103739</td>\n",
       "      <td>0.049599</td>\n",
       "    </tr>\n",
       "    <tr>\n",
       "      <th>std</th>\n",
       "      <td>0.033550</td>\n",
       "      <td>0.077291</td>\n",
       "    </tr>\n",
       "    <tr>\n",
       "      <th>min</th>\n",
       "      <td>0.037500</td>\n",
       "      <td>-0.559760</td>\n",
       "    </tr>\n",
       "    <tr>\n",
       "      <th>25%</th>\n",
       "      <td>0.079800</td>\n",
       "      <td>0.027580</td>\n",
       "    </tr>\n",
       "    <tr>\n",
       "      <th>50%</th>\n",
       "      <td>0.099440</td>\n",
       "      <td>0.039870</td>\n",
       "    </tr>\n",
       "    <tr>\n",
       "      <th>75%</th>\n",
       "      <td>0.121550</td>\n",
       "      <td>0.056490</td>\n",
       "    </tr>\n",
       "    <tr>\n",
       "      <th>max</th>\n",
       "      <td>0.213120</td>\n",
       "      <td>0.775760</td>\n",
       "    </tr>\n",
       "  </tbody>\n",
       "</table>\n",
       "</div>"
      ],
      "text/plain": [
       "         duration         VOT\n",
       "count  593.000000  593.000000\n",
       "mean     0.103739    0.049599\n",
       "std      0.033550    0.077291\n",
       "min      0.037500   -0.559760\n",
       "25%      0.079800    0.027580\n",
       "50%      0.099440    0.039870\n",
       "75%      0.121550    0.056490\n",
       "max      0.213120    0.775760"
      ]
     },
     "execution_count": 42,
     "metadata": {},
     "output_type": "execute_result"
    }
   ],
   "source": [
    "df.describe()"
   ]
  },
  {
   "cell_type": "code",
   "execution_count": 43,
   "id": "ddee59a4-a68d-4d2a-ad9d-3f85f4b2f080",
   "metadata": {},
   "outputs": [
    {
     "data": {
      "text/plain": [
       "<AxesSubplot:xlabel='context'>"
      ]
     },
     "execution_count": 43,
     "metadata": {},
     "output_type": "execute_result"
    },
    {
     "data": {
      "image/png": "[encoded data removed]",
      "text/plain": [
       "<Figure size 432x288 with 1 Axes>"
      ]
     },
     "metadata": {
      "needs_background": "light"
     },
     "output_type": "display_data"
    }
   ],
   "source": [
    "df.groupby('context').VOT.mean().plot(kind='bar')"
   ]
  },
  {
   "cell_type": "code",
   "execution_count": 44,
   "id": "f414957e-b069-4e5f-b9fa-98c1b7370e21",
   "metadata": {},
   "outputs": [
    {
     "data": {
      "image/png": "[encoded data removed]",
      "text/plain": [
       "<Figure size 432x288 with 1 Axes>"
      ]
     },
     "metadata": {
      "needs_background": "light"
     },
     "output_type": "display_data"
    }
   ],
   "source": [
    "for context in df.context.unique():\n",
    "    df.loc[df.context == context, 'VOT'].plot(kind='kde')"
   ]
  },
  {
   "cell_type": "code",
   "execution_count": 45,
   "id": "91df4382-2590-4c82-a425-7ac6b14ceab5",
   "metadata": {},
   "outputs": [
    {
     "data": {
      "text/html": [
       "<div>\n",
       "<style scoped>\n",
       "    .dataframe tbody tr th:only-of-type {\n",
       "        vertical-align: middle;\n",
       "    }\n",
       "\n",
       "    .dataframe tbody tr th {\n",
       "        vertical-align: top;\n",
       "    }\n",
       "\n",
       "    .dataframe thead th {\n",
       "        text-align: right;\n",
       "    }\n",
       "</style>\n",
       "<table border=\"1\" class=\"dataframe\">\n",
       "  <thead>\n",
       "    <tr style=\"text-align: right;\">\n",
       "      <th></th>\n",
       "      <th>duration</th>\n",
       "      <th>VOT</th>\n",
       "      <th>context</th>\n",
       "      <th>word</th>\n",
       "      <th>segment</th>\n",
       "      <th>voiced</th>\n",
       "      <th>burst</th>\n",
       "    </tr>\n",
       "  </thead>\n",
       "  <tbody>\n",
       "  </tbody>\n",
       "</table>\n",
       "</div>"
      ],
      "text/plain": [
       "Empty DataFrame\n",
       "Columns: [duration, VOT, context, word, segment, voiced, burst]\n",
       "Index: []"
      ]
     },
     "execution_count": 45,
     "metadata": {},
     "output_type": "execute_result"
    }
   ],
   "source": [
    "df.loc[(df.segment == 'в') & (~df.voiced)]"
   ]
  },
  {
   "cell_type": "code",
   "execution_count": 46,
   "id": "2cf9dc1b-cc0c-402c-8cbb-e195a44ac88e",
   "metadata": {},
   "outputs": [
    {
     "data": {
      "text/plain": [
       "Series([], Name: context, dtype: int64)"
      ]
     },
     "execution_count": 46,
     "metadata": {},
     "output_type": "execute_result"
    }
   ],
   "source": [
    "df.loc[(df.segment == 'в') & (df.voiced), 'context'].value_counts()"
   ]
  },
  {
   "cell_type": "code",
   "execution_count": null,
   "id": "2eae48ff-192a-4509-9428-2ecd0abdb7ef",
   "metadata": {},
   "outputs": [],
   "source": []
  },
  {
   "cell_type": "code",
   "execution_count": null,
   "id": "cb523593-d3ea-4855-9a73-40c26c561a7e",
   "metadata": {},
   "outputs": [],
   "source": []
  },
  {
   "cell_type": "code",
   "execution_count": null,
   "id": "c8b131c3-9168-46f2-b5c7-6593389e8f48",
   "metadata": {},
   "outputs": [],
   "source": []
  },
  {
   "cell_type": "code",
   "execution_count": null,
   "id": "787a1b38-c29d-48af-bc57-5c401556a26b",
   "metadata": {},
   "outputs": [],
   "source": []
  }
 ],
 "metadata": {
  "kernelspec": {
   "display_name": "Python 3",
   "language": "python",
   "name": "python3"
  },
  "language_info": {
   "codemirror_mode": {
    "name": "ipython",
    "version": 3
   },
   "file_extension": ".py",
   "mimetype": "text/x-python",
   "name": "python",
   "nbconvert_exporter": "python",
   "pygments_lexer": "ipython3",
   "version": "3.8.8"
  }
 },
 "nbformat": 4,
 "nbformat_minor": 5
}
